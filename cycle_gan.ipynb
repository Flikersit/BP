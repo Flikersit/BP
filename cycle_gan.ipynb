{
 "cells": [
  {
   "cell_type": "code",
   "execution_count": 3,
   "metadata": {},
   "outputs": [],
   "source": [
    "import numpy as np\n",
    "import torch\n",
    "from torch import nn \n",
    "from torch.nn import Module"
   ]
  },
  {
   "cell_type": "code",
   "execution_count": null,
   "metadata": {},
   "outputs": [],
   "source": [
    "class Convolutional_size_change(Module):\n",
    "    def __init__(self, in_channels, kernel_size=3, stride=2,  downsample=True, padding=1):\n",
    "        super().__init__()\n",
    "        if downsample:\n",
    "            self.conv = nn.Conv2d(in_channels=in_channels, out_channels=in_channels*2, kernel_size=kernel_size, stride=stride, padding=padding, padding_mode=\"reflect\")\n",
    "            self.instance_norm = nn.InstanceNorm2d(in_channels*2)\n",
    "        else:\n",
    "            self.conv = nn.ConvTranspose2d(in_channels=in_channels, out_channels=in_channels/2, kernel_size=kernel_size, stride=stride, padding=padding, padding_mode=\"reflect\")\n",
    "            self.instance_norm = nn.InstanceNorm2d(in_channels/2)\n",
    "        self.activation = nn.ReLu(inplace=True)\n",
    "\n",
    "    def forward(self, x):\n",
    "        x = self.conv(x)\n",
    "        x = self.instance_norm(x)\n",
    "        x = self.activation(x)\n",
    "\n",
    "        return x\n",
    "    \n",
    "\n",
    "\n",
    "\n",
    "class ResidualBlock(nn.Module):\n",
    "    def __init__(self, channels, kernel_size=3, stride=1, padding=1):\n",
    "        super().__init__()\n",
    "        self.conv1 = nn.Conv2d(in_channels=channels, out_channels=channels, kernel_size=kernel_size, stride=stride, padding=padding, padding_mode=\"reflect\")\n",
    "        self.activation = nn.ReLU(inplace=True)\n",
    "        self.conv2 = nn.Conv2d(in_channels=channels, out_channels=channels, kernel_size=kernel_size, stride=stride, padding=padding, padding_mode=\"reflect\")\n",
    "        \n",
    "    def forward(self, x):\n",
    "        y = self.conv1(x)\n",
    "        y = self.activation(y)\n",
    "        y = self.conv2(y)\n",
    "        return y + x\n",
    "        \n",
    "\n",
    "\n",
    "class Generator(nn.Module):\n",
    "    def __init__(self, out_channels=1, in_channels=1, out_network_channels=64, number_of_residual_layers=9):\n",
    "\n",
    "        self.first_conv = nn.Conv2d(in_channels=in_channels, out_channels=out_network_channels, kernel_size=7, stride=1, padding=3, padding_mode='reflect')\n",
    "        self.first_norm = nn.InstanceNorm2d(out_network_channels)\n",
    "        self.first_activ = nn.ReLU(inplace=True)\n",
    "        self.down_first = Convolutional_size_change(out_network_channels)\n",
    "        self.down_second = Convolutional_size_change(out_network_channels*2)\n",
    "\n",
    "        self.residuals = []\n",
    "        for i in range(number_of_residual_layers):\n",
    "            residual = ResidualBlock(out_network_channels*4)\n",
    "            self.residuals.append(residual)\n",
    "\n",
    "        self.up_first = Convolutional_size_change(out_network_channels*4, downsample=False)\n",
    "        self.up_second = Convolutional_size_change(out_network_channels*2, downsample=False)\n",
    "        self.final_layer = nn.Conv2d(in_channels=out_network_channels, out_channels=out_channels, kernel_size=7, stride=1, padding=3, padding_mode='reflect')\n"
   ]
  }
 ],
 "metadata": {
  "kernelspec": {
   "display_name": "Python 3",
   "language": "python",
   "name": "python3"
  },
  "language_info": {
   "codemirror_mode": {
    "name": "ipython",
    "version": 3
   },
   "file_extension": ".py",
   "mimetype": "text/x-python",
   "name": "python",
   "nbconvert_exporter": "python",
   "pygments_lexer": "ipython3",
   "version": "3.11.9"
  }
 },
 "nbformat": 4,
 "nbformat_minor": 2
}
