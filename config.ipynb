{
 "cells": [
  {
   "cell_type": "code",
   "execution_count": null,
   "metadata": {},
   "outputs": [],
   "source": [
    "import json"
   ]
  },
  {
   "cell_type": "code",
   "execution_count": null,
   "metadata": {},
   "outputs": [],
   "source": [
    "RELATION = {\n",
    "    1:1,\n",
    "    2:12,\n",
    "    3:14,\n",
    "    4:15,\n",
    "    5:16,\n",
    "    6:17,\n",
    "    7:18,\n",
    "    8:19,\n",
    "    9:20, \n",
    "    10:2, \n",
    "    11:3,\n",
    "    12:4,\n",
    "    13:5,\n",
    "    14:6,\n",
    "    15:7,\n",
    "    16:8,\n",
    "    17:9,\n",
    "    18:10,\n",
    "    19:11,\n",
    "    20:13\n",
    "\n",
    "}"
   ]
  }
 ],
 "metadata": {
  "language_info": {
   "name": "python"
  }
 },
 "nbformat": 4,
 "nbformat_minor": 2
}
